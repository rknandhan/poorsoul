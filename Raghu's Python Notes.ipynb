{
 "cells": [
  {
   "cell_type": "code",
   "execution_count": 1,
   "id": "10774c1d",
   "metadata": {},
   "outputs": [
    {
     "data": {
      "text/plain": [
       "'Hello World'"
      ]
     },
     "execution_count": 1,
     "metadata": {},
     "output_type": "execute_result"
    }
   ],
   "source": [
    "\"Hello World\""
   ]
  },
  {
   "cell_type": "code",
   "execution_count": 2,
   "id": "8ce7500e",
   "metadata": {},
   "outputs": [
    {
     "name": "stdout",
     "output_type": "stream",
     "text": [
      "Hello World\n"
     ]
    }
   ],
   "source": [
    "print(\"Hello World\")"
   ]
  },
  {
   "cell_type": "code",
   "execution_count": 3,
   "id": "471b2730",
   "metadata": {},
   "outputs": [],
   "source": [
    "x=\"Hello World\""
   ]
  },
  {
   "cell_type": "code",
   "execution_count": 4,
   "id": "2540ebea",
   "metadata": {},
   "outputs": [
    {
     "data": {
      "text/plain": [
       "'HELLO WORLD'"
      ]
     },
     "execution_count": 4,
     "metadata": {},
     "output_type": "execute_result"
    }
   ],
   "source": [
    "x.upper()"
   ]
  },
  {
   "cell_type": "code",
   "execution_count": 5,
   "id": "9ce7583d",
   "metadata": {},
   "outputs": [
    {
     "data": {
      "text/plain": [
       "['He', '', 'o Wor', 'd']"
      ]
     },
     "execution_count": 5,
     "metadata": {},
     "output_type": "execute_result"
    }
   ],
   "source": [
    "x.split('l')"
   ]
  },
  {
   "cell_type": "code",
   "execution_count": 7,
   "id": "73c40e52",
   "metadata": {},
   "outputs": [],
   "source": [
    "# data_text=str(API_result).split(':') = str().split() function splits the values based on parameter"
   ]
  },
  {
   "cell_type": "code",
   "execution_count": 8,
   "id": "69a112e2",
   "metadata": {},
   "outputs": [],
   "source": [
    "# data_text=str(API_result).replace(':','&') = .replace witll replace parameter with other value"
   ]
  },
  {
   "cell_type": "code",
   "execution_count": null,
   "id": "bacde84d",
   "metadata": {},
   "outputs": [],
   "source": [
    "# to delete any cell, select the cell and press 'dd'\n",
    "# import numpy as np = this library used for mathematical operations in data analysis\n",
    "# import pandas as pd = this library used for data frames in data analysis\n",
    "# import matplotlib.pyplot as plt = this is for visualizing the data\n",
    "# import seaborn as sns = this is for visualizing the data"
   ]
  },
  {
   "cell_type": "code",
   "execution_count": null,
   "id": "c5d2d2f1",
   "metadata": {},
   "outputs": [],
   "source": [
    "# You can convert JSON to pandas DataFrame by using json_normalize(), read_json() and from_dict() functions. S\n",
    "# Some of these methods are also used to extract data from JSON files and store them as DataFrame.\n",
    "# json_normalize() This function is used to convert the JSON string into a DataFrame. You can load JSON string using json.loads() function. Pass JSON object to json_normalize(), which returns a Pandas DataFrame\n",
    "# https://sparkbyexamples.com/pandas/pandas-convert-json-to-dataframe/#:~:text=You%20can%20convert%20JSON%20to,stands%20for%20JavaScript%20object%20notation%20."
   ]
  },
  {
   "cell_type": "code",
   "execution_count": null,
   "id": "672b13f3",
   "metadata": {},
   "outputs": [],
   "source": []
  }
 ],
 "metadata": {
  "kernelspec": {
   "display_name": "Python 3 (ipykernel)",
   "language": "python",
   "name": "python3"
  },
  "language_info": {
   "codemirror_mode": {
    "name": "ipython",
    "version": 3
   },
   "file_extension": ".py",
   "mimetype": "text/x-python",
   "name": "python",
   "nbconvert_exporter": "python",
   "pygments_lexer": "ipython3",
   "version": "3.11.4"
  }
 },
 "nbformat": 4,
 "nbformat_minor": 5
}
